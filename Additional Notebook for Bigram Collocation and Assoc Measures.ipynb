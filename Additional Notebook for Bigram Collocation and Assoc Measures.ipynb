{
  "nbformat": 4,
  "nbformat_minor": 0,
  "metadata": {
    "colab": {
      "provenance": []
    },
    "kernelspec": {
      "name": "python3",
      "display_name": "Python 3"
    },
    "language_info": {
      "name": "python"
    }
  },
  "cells": [
    {
      "cell_type": "code",
      "execution_count": null,
      "metadata": {
        "colab": {
          "base_uri": "https://localhost:8080/"
        },
        "id": "Ej7iOiWH_7CE",
        "outputId": "c4642fa4-19a3-466b-d64c-81ebdfb7fd87"
      },
      "outputs": [
        {
          "output_type": "stream",
          "name": "stderr",
          "text": [
            "[nltk_data] Error loading tagset: Package 'tagset' not found in index\n",
            "[nltk_data] Downloading package averaged_perceptron_tagger to\n",
            "[nltk_data]     /root/nltk_data...\n",
            "[nltk_data]   Unzipping taggers/averaged_perceptron_tagger.zip.\n",
            "[nltk_data] Downloading package punkt to /root/nltk_data...\n",
            "[nltk_data]   Unzipping tokenizers/punkt.zip.\n",
            "[nltk_data] Downloading package maxent_ne_chunker to\n",
            "[nltk_data]     /root/nltk_data...\n",
            "[nltk_data]   Unzipping chunkers/maxent_ne_chunker.zip.\n",
            "[nltk_data] Downloading package words to /root/nltk_data...\n",
            "[nltk_data]   Unzipping corpora/words.zip.\n"
          ]
        },
        {
          "output_type": "execute_result",
          "data": {
            "text/plain": [
              "True"
            ]
          },
          "metadata": {},
          "execution_count": 1
        }
      ],
      "source": [
        "from textblob import TextBlob\n",
        "import nltk\n",
        "nltk.download('tagset')\n",
        "nltk.download('averaged_perceptron_tagger')\n",
        "nltk.download('punkt')\n",
        "nltk.download('maxent_ne_chunker')\n",
        "nltk.download('words')"
      ]
    },
    {
      "cell_type": "code",
      "source": [
        "text = '''Ashish Gupta is a professor in Artificial intelligence, but he is also teaching power bi on sundays. He is also taking session for mathematics'''\n",
        "tb = TextBlob(text)\n",
        "print(tb.tags)"
      ],
      "metadata": {
        "colab": {
          "base_uri": "https://localhost:8080/"
        },
        "id": "DForoCBnAnNB",
        "outputId": "000699f1-7085-43a2-e76f-1ea49f33cd34"
      },
      "execution_count": null,
      "outputs": [
        {
          "output_type": "stream",
          "name": "stdout",
          "text": [
            "[('Ashish', 'JJ'), ('Gupta', 'NNP'), ('is', 'VBZ'), ('a', 'DT'), ('professor', 'NN'), ('in', 'IN'), ('Artificial', 'NNP'), ('intelligence', 'NN'), ('but', 'CC'), ('he', 'PRP'), ('is', 'VBZ'), ('also', 'RB'), ('teaching', 'VBG'), ('power', 'NN'), ('bi', 'NN'), ('on', 'IN'), ('sundays', 'NNS'), ('He', 'PRP'), ('is', 'VBZ'), ('also', 'RB'), ('taking', 'VBG'), ('session', 'NN'), ('for', 'IN'), ('mathematics', 'NNS')]\n"
          ]
        }
      ]
    },
    {
      "cell_type": "markdown",
      "source": [
        "<pre>\n",
        "NNP stands for proper noun singular\n",
        "VBZ stands for verb, 3rd person sing. present\n",
        "DT stands for determiner, i.e. a, an, the\n",
        "NN stands for noun, singular or mass\n",
        "IN stands for preposition/subordinating conjunction, i.e in, of, like\n",
        "CC stands for coordinating conjunction\n",
        "PRP stands for possessive pronoun\n",
        "RB stands for adverb\n",
        "VBG stands for verb, gerund/present participle\n",
        "NN stands for noun, singular or mass\n",
        "NNS stands for noun plural\n",
        "JJ stands for an adjective (large)\n",
        "</pre>"
      ],
      "metadata": {
        "id": "coWPTQigA-wZ"
      }
    },
    {
      "cell_type": "code",
      "source": [
        "nltk.download('tagsets')\n",
        "nltk.help.upenn_tagset()"
      ],
      "metadata": {
        "colab": {
          "base_uri": "https://localhost:8080/"
        },
        "id": "TKu14bUkA05f",
        "outputId": "88378ab0-5c40-4955-c222-16c22bcc1dfd"
      },
      "execution_count": null,
      "outputs": [
        {
          "output_type": "stream",
          "name": "stdout",
          "text": [
            "$: dollar\n",
            "    $ -$ --$ A$ C$ HK$ M$ NZ$ S$ U.S.$ US$\n",
            "'': closing quotation mark\n",
            "    ' ''\n",
            "(: opening parenthesis\n",
            "    ( [ {\n",
            "): closing parenthesis\n",
            "    ) ] }\n",
            ",: comma\n",
            "    ,\n",
            "--: dash\n",
            "    --\n",
            ".: sentence terminator\n",
            "    . ! ?\n",
            ":: colon or ellipsis\n",
            "    : ; ...\n",
            "CC: conjunction, coordinating\n",
            "    & 'n and both but either et for less minus neither nor or plus so\n",
            "    therefore times v. versus vs. whether yet\n",
            "CD: numeral, cardinal\n",
            "    mid-1890 nine-thirty forty-two one-tenth ten million 0.5 one forty-\n",
            "    seven 1987 twenty '79 zero two 78-degrees eighty-four IX '60s .025\n",
            "    fifteen 271,124 dozen quintillion DM2,000 ...\n",
            "DT: determiner\n",
            "    all an another any both del each either every half la many much nary\n",
            "    neither no some such that the them these this those\n",
            "EX: existential there\n",
            "    there\n",
            "FW: foreign word\n",
            "    gemeinschaft hund ich jeux habeas Haementeria Herr K'ang-si vous\n",
            "    lutihaw alai je jour objets salutaris fille quibusdam pas trop Monte\n",
            "    terram fiche oui corporis ...\n",
            "IN: preposition or conjunction, subordinating\n",
            "    astride among uppon whether out inside pro despite on by throughout\n",
            "    below within for towards near behind atop around if like until below\n",
            "    next into if beside ...\n",
            "JJ: adjective or numeral, ordinal\n",
            "    third ill-mannered pre-war regrettable oiled calamitous first separable\n",
            "    ectoplasmic battery-powered participatory fourth still-to-be-named\n",
            "    multilingual multi-disciplinary ...\n",
            "JJR: adjective, comparative\n",
            "    bleaker braver breezier briefer brighter brisker broader bumper busier\n",
            "    calmer cheaper choosier cleaner clearer closer colder commoner costlier\n",
            "    cozier creamier crunchier cuter ...\n",
            "JJS: adjective, superlative\n",
            "    calmest cheapest choicest classiest cleanest clearest closest commonest\n",
            "    corniest costliest crassest creepiest crudest cutest darkest deadliest\n",
            "    dearest deepest densest dinkiest ...\n",
            "LS: list item marker\n",
            "    A A. B B. C C. D E F First G H I J K One SP-44001 SP-44002 SP-44005\n",
            "    SP-44007 Second Third Three Two * a b c d first five four one six three\n",
            "    two\n",
            "MD: modal auxiliary\n",
            "    can cannot could couldn't dare may might must need ought shall should\n",
            "    shouldn't will would\n",
            "NN: noun, common, singular or mass\n",
            "    common-carrier cabbage knuckle-duster Casino afghan shed thermostat\n",
            "    investment slide humour falloff slick wind hyena override subhumanity\n",
            "    machinist ...\n",
            "NNP: noun, proper, singular\n",
            "    Motown Venneboerger Czestochwa Ranzer Conchita Trumplane Christos\n",
            "    Oceanside Escobar Kreisler Sawyer Cougar Yvette Ervin ODI Darryl CTCA\n",
            "    Shannon A.K.C. Meltex Liverpool ...\n",
            "NNPS: noun, proper, plural\n",
            "    Americans Americas Amharas Amityvilles Amusements Anarcho-Syndicalists\n",
            "    Andalusians Andes Andruses Angels Animals Anthony Antilles Antiques\n",
            "    Apache Apaches Apocrypha ...\n",
            "NNS: noun, common, plural\n",
            "    undergraduates scotches bric-a-brac products bodyguards facets coasts\n",
            "    divestitures storehouses designs clubs fragrances averages\n",
            "    subjectivists apprehensions muses factory-jobs ...\n",
            "PDT: pre-determiner\n",
            "    all both half many quite such sure this\n",
            "POS: genitive marker\n",
            "    ' 's\n",
            "PRP: pronoun, personal\n",
            "    hers herself him himself hisself it itself me myself one oneself ours\n",
            "    ourselves ownself self she thee theirs them themselves they thou thy us\n",
            "PRP$: pronoun, possessive\n",
            "    her his mine my our ours their thy your\n",
            "RB: adverb\n",
            "    occasionally unabatingly maddeningly adventurously professedly\n",
            "    stirringly prominently technologically magisterially predominately\n",
            "    swiftly fiscally pitilessly ...\n",
            "RBR: adverb, comparative\n",
            "    further gloomier grander graver greater grimmer harder harsher\n",
            "    healthier heavier higher however larger later leaner lengthier less-\n",
            "    perfectly lesser lonelier longer louder lower more ...\n",
            "RBS: adverb, superlative\n",
            "    best biggest bluntest earliest farthest first furthest hardest\n",
            "    heartiest highest largest least less most nearest second tightest worst\n",
            "RP: particle\n",
            "    aboard about across along apart around aside at away back before behind\n",
            "    by crop down ever fast for forth from go high i.e. in into just later\n",
            "    low more off on open out over per pie raising start teeth that through\n",
            "    under unto up up-pp upon whole with you\n",
            "SYM: symbol\n",
            "    % & ' '' ''. ) ). * + ,. < = > @ A[fj] U.S U.S.S.R * ** ***\n",
            "TO: \"to\" as preposition or infinitive marker\n",
            "    to\n",
            "UH: interjection\n",
            "    Goodbye Goody Gosh Wow Jeepers Jee-sus Hubba Hey Kee-reist Oops amen\n",
            "    huh howdy uh dammit whammo shucks heck anyways whodunnit honey golly\n",
            "    man baby diddle hush sonuvabitch ...\n",
            "VB: verb, base form\n",
            "    ask assemble assess assign assume atone attention avoid bake balkanize\n",
            "    bank begin behold believe bend benefit bevel beware bless boil bomb\n",
            "    boost brace break bring broil brush build ...\n",
            "VBD: verb, past tense\n",
            "    dipped pleaded swiped regummed soaked tidied convened halted registered\n",
            "    cushioned exacted snubbed strode aimed adopted belied figgered\n",
            "    speculated wore appreciated contemplated ...\n",
            "VBG: verb, present participle or gerund\n",
            "    telegraphing stirring focusing angering judging stalling lactating\n",
            "    hankerin' alleging veering capping approaching traveling besieging\n",
            "    encrypting interrupting erasing wincing ...\n",
            "VBN: verb, past participle\n",
            "    multihulled dilapidated aerosolized chaired languished panelized used\n",
            "    experimented flourished imitated reunifed factored condensed sheared\n",
            "    unsettled primed dubbed desired ...\n",
            "VBP: verb, present tense, not 3rd person singular\n",
            "    predominate wrap resort sue twist spill cure lengthen brush terminate\n",
            "    appear tend stray glisten obtain comprise detest tease attract\n",
            "    emphasize mold postpone sever return wag ...\n",
            "VBZ: verb, present tense, 3rd person singular\n",
            "    bases reconstructs marks mixes displeases seals carps weaves snatches\n",
            "    slumps stretches authorizes smolders pictures emerges stockpiles\n",
            "    seduces fizzes uses bolsters slaps speaks pleads ...\n",
            "WDT: WH-determiner\n",
            "    that what whatever which whichever\n",
            "WP: WH-pronoun\n",
            "    that what whatever whatsoever which who whom whosoever\n",
            "WP$: WH-pronoun, possessive\n",
            "    whose\n",
            "WRB: Wh-adverb\n",
            "    how however whence whenever where whereby whereever wherein whereof why\n",
            "``: opening quotation mark\n",
            "    ` ``\n"
          ]
        },
        {
          "output_type": "stream",
          "name": "stderr",
          "text": [
            "[nltk_data] Downloading package tagsets to /root/nltk_data...\n",
            "[nltk_data]   Unzipping help/tagsets.zip.\n"
          ]
        }
      ]
    },
    {
      "cell_type": "markdown",
      "source": [
        "Named Entity Recognition to seek, locate and classify entities"
      ],
      "metadata": {
        "id": "weZujencIkcN"
      }
    },
    {
      "cell_type": "code",
      "source": [
        "from nltk.tokenize import sent_tokenize, word_tokenize\n",
        "sentences = sent_tokenize(text)\n",
        "print(sentences)"
      ],
      "metadata": {
        "colab": {
          "base_uri": "https://localhost:8080/"
        },
        "id": "6zXer6erBwDg",
        "outputId": "15d0e8b7-58a4-4fd4-8b55-05c0b9287a79"
      },
      "execution_count": null,
      "outputs": [
        {
          "output_type": "stream",
          "name": "stdout",
          "text": [
            "['Ashish Gupta is a professor in Artificial intelligence, but he is also teaching power bi on sundays.', 'He is also taking session for mathematics']\n"
          ]
        }
      ]
    },
    {
      "cell_type": "code",
      "source": [
        "tokenize_words = [word_tokenize(sentence) for sentence in sentences]\n",
        "print(tokenize_words)"
      ],
      "metadata": {
        "colab": {
          "base_uri": "https://localhost:8080/"
        },
        "id": "gMmRPRYPJAiC",
        "outputId": "549f88cd-516f-43b8-a075-a2a8014ebfb8"
      },
      "execution_count": null,
      "outputs": [
        {
          "output_type": "stream",
          "name": "stdout",
          "text": [
            "[['Ashish', 'Gupta', 'is', 'a', 'professor', 'in', 'Artificial', 'intelligence', ',', 'but', 'he', 'is', 'also', 'teaching', 'power', 'bi', 'on', 'sundays', '.'], ['He', 'is', 'also', 'taking', 'session', 'for', 'mathematics']]\n"
          ]
        }
      ]
    },
    {
      "cell_type": "code",
      "source": [
        "pos_sentences = [nltk.pos_tag(word) for word in tokenize_words]\n",
        "print(pos_sentences)"
      ],
      "metadata": {
        "colab": {
          "base_uri": "https://localhost:8080/"
        },
        "id": "hkZbzmzPJIj3",
        "outputId": "d8ef9cd4-a963-4f3a-e542-e5142933abee"
      },
      "execution_count": null,
      "outputs": [
        {
          "output_type": "stream",
          "name": "stdout",
          "text": [
            "[[('Ashish', 'JJ'), ('Gupta', 'NNP'), ('is', 'VBZ'), ('a', 'DT'), ('professor', 'NN'), ('in', 'IN'), ('Artificial', 'NNP'), ('intelligence', 'NN'), (',', ','), ('but', 'CC'), ('he', 'PRP'), ('is', 'VBZ'), ('also', 'RB'), ('teaching', 'VBG'), ('power', 'NN'), ('bi', 'NN'), ('on', 'IN'), ('sundays', 'NNS'), ('.', '.')], [('He', 'PRP'), ('is', 'VBZ'), ('also', 'RB'), ('taking', 'VBG'), ('session', 'NN'), ('for', 'IN'), ('mathematics', 'NNS')]]\n"
          ]
        }
      ]
    },
    {
      "cell_type": "code",
      "source": [
        "chunked_sentences = nltk.ne_chunk_sents(pos_sentences, binary=False)\n",
        "\n",
        "for sent in chunked_sentences:\n",
        "    for chunk in sent:\n",
        "        print(chunk)\n",
        "\n",
        "#You can check the name entities starting with NE"
      ],
      "metadata": {
        "colab": {
          "base_uri": "https://localhost:8080/"
        },
        "id": "LKE0sUMDJNYt",
        "outputId": "3cfbc373-4c04-4659-ed8d-f44afd73e910"
      },
      "execution_count": null,
      "outputs": [
        {
          "output_type": "stream",
          "name": "stdout",
          "text": [
            "(GPE Ashish/JJ)\n",
            "(ORGANIZATION Gupta/NNP)\n",
            "('is', 'VBZ')\n",
            "('a', 'DT')\n",
            "('professor', 'NN')\n",
            "('in', 'IN')\n",
            "(GPE Artificial/NNP)\n",
            "('intelligence', 'NN')\n",
            "(',', ',')\n",
            "('but', 'CC')\n",
            "('he', 'PRP')\n",
            "('is', 'VBZ')\n",
            "('also', 'RB')\n",
            "('teaching', 'VBG')\n",
            "('power', 'NN')\n",
            "('bi', 'NN')\n",
            "('on', 'IN')\n",
            "('sundays', 'NNS')\n",
            "('.', '.')\n",
            "('He', 'PRP')\n",
            "('is', 'VBZ')\n",
            "('also', 'RB')\n",
            "('taking', 'VBG')\n",
            "('session', 'NN')\n",
            "('for', 'IN')\n",
            "('mathematics', 'NNS')\n"
          ]
        }
      ]
    },
    {
      "cell_type": "code",
      "source": [
        "# THIS CODE DOESN'T WORK\n",
        "for sent in chunked_sentences:\n",
        "    for chunk in sent:\n",
        "        if hasattr(chunk, \"label\") and chunk.label() == \"NE\":\n",
        "            print(chunk)"
      ],
      "metadata": {
        "id": "ByVOQpupQwJ4"
      },
      "execution_count": null,
      "outputs": []
    },
    {
      "cell_type": "code",
      "source": [
        "print(chunked_sentences)"
      ],
      "metadata": {
        "colab": {
          "base_uri": "https://localhost:8080/"
        },
        "id": "dEJB8-UzLy3x",
        "outputId": "42cc6953-1190-40a6-b3c5-d1fdc1247f90"
      },
      "execution_count": null,
      "outputs": [
        {
          "output_type": "stream",
          "name": "stdout",
          "text": [
            "<generator object ParserI.parse_sents.<locals>.<genexpr> at 0x7e95cd09bb50>\n"
          ]
        }
      ]
    },
    {
      "cell_type": "code",
      "source": [
        "import nltk\n",
        "for sent in nltk.sent_tokenize(text):\n",
        "   for chunk in nltk.ne_chunk(nltk.pos_tag(nltk.word_tokenize(sent))):\n",
        "      if hasattr(chunk, 'label'):\n",
        "         print(chunk.label(), '_'.join(c[0] for c in chunk))"
      ],
      "metadata": {
        "colab": {
          "base_uri": "https://localhost:8080/"
        },
        "id": "3X5BXCkvNNAh",
        "outputId": "77d8d0aa-47df-48b4-d910-9a86eb21e054"
      },
      "execution_count": null,
      "outputs": [
        {
          "output_type": "stream",
          "name": "stdout",
          "text": [
            "GPE Ashish\n",
            "ORGANIZATION Gupta\n",
            "GPE Artificial\n"
          ]
        }
      ]
    },
    {
      "cell_type": "code",
      "source": [
        "text = 'WASHINGTON -- In the wake of a string of abuses by New York police officers in the 1990s, Loretta E. Lynch, the top federal prosecutor in Brooklyn, spoke forcefully about the pain of a broken trust that African-Americans felt and said the responsibility for repairing generations of miscommunication and mistrust fell to law enforcement.'"
      ],
      "metadata": {
        "id": "P6JIj5W9Nesw"
      },
      "execution_count": null,
      "outputs": []
    },
    {
      "cell_type": "code",
      "source": [
        "import nltk\n",
        "for sent in nltk.sent_tokenize(text):\n",
        "   for chunk in nltk.ne_chunk(nltk.pos_tag(nltk.word_tokenize(sent))):\n",
        "      if hasattr(chunk, 'label'):\n",
        "         print(chunk.label(), '_'.join(c[0] for c in chunk))"
      ],
      "metadata": {
        "colab": {
          "base_uri": "https://localhost:8080/"
        },
        "id": "GixCJo-oOnVL",
        "outputId": "44c2bebc-0e47-4af5-d733-87c450d24f6e"
      },
      "execution_count": null,
      "outputs": [
        {
          "output_type": "stream",
          "name": "stdout",
          "text": [
            "GPE WASHINGTON\n",
            "GPE New_York\n",
            "PERSON Loretta_E._Lynch\n",
            "GPE Brooklyn\n"
          ]
        }
      ]
    },
    {
      "cell_type": "code",
      "source": [
        "import nltk\n",
        "for sent in nltk.sent_tokenize(text):\n",
        "   for chunk in nltk.ne_chunk(nltk.pos_tag(nltk.word_tokenize(sent))):\n",
        "      if hasattr(chunk, 'label') and chunk.label() == 'GPE':\n",
        "         print(chunk.label(), '_'.join(c[0] for c in chunk))"
      ],
      "metadata": {
        "colab": {
          "base_uri": "https://localhost:8080/"
        },
        "id": "HNhX5ybwPe5k",
        "outputId": "a911fb18-96c1-4456-eaa0-b16222378b52"
      },
      "execution_count": null,
      "outputs": [
        {
          "output_type": "stream",
          "name": "stdout",
          "text": [
            "GPE WASHINGTON\n",
            "GPE New_York\n",
            "GPE Brooklyn\n"
          ]
        }
      ]
    },
    {
      "cell_type": "code",
      "source": [
        "import nltk\n",
        "for sent in nltk.sent_tokenize(text):\n",
        "   for chunk in nltk.ne_chunk(nltk.pos_tag(nltk.word_tokenize(sent))):\n",
        "      if hasattr(chunk, 'label') and chunk.label() == 'PERSON':\n",
        "         print(chunk.label(), '_'.join(c[0] for c in chunk))"
      ],
      "metadata": {
        "colab": {
          "base_uri": "https://localhost:8080/"
        },
        "id": "JESGDBwDPh0y",
        "outputId": "fd58f862-1753-4c5c-b2bd-c19154aaff25"
      },
      "execution_count": null,
      "outputs": [
        {
          "output_type": "stream",
          "name": "stdout",
          "text": [
            "PERSON Loretta_E._Lynch\n"
          ]
        }
      ]
    },
    {
      "cell_type": "markdown",
      "source": [
        "Discovering BigramCollocationFinder"
      ],
      "metadata": {
        "id": "2trGFDGRqsQT"
      }
    },
    {
      "cell_type": "code",
      "source": [
        "import nltk\n",
        "nltk.download('webtext')\n",
        "from nltk.corpus import webtext"
      ],
      "metadata": {
        "colab": {
          "base_uri": "https://localhost:8080/"
        },
        "id": "rtgkWa3Ko0AT",
        "outputId": "9ade60cc-a49f-48a7-b4e4-177ffb7e48ba"
      },
      "execution_count": null,
      "outputs": [
        {
          "output_type": "stream",
          "name": "stderr",
          "text": [
            "[nltk_data] Downloading package webtext to /root/nltk_data...\n",
            "[nltk_data]   Unzipping corpora/webtext.zip.\n"
          ]
        }
      ]
    },
    {
      "cell_type": "code",
      "source": [
        "#from nltk.probability import FreqDist\n",
        "#from nltk.util import ngrams\n",
        "from itertools import islice, chain\n",
        "from nltk import compat #check students\n",
        "import math\n",
        "import random\n",
        "import warnings\n",
        "import array\n",
        "from operator import itemgetter\n",
        "from itertools import islice\n",
        "from collections import defaultdict\n",
        "from functools import reduce\n",
        "from collections import Counter"
      ],
      "metadata": {
        "id": "auBAogC7t4s_"
      },
      "execution_count": null,
      "outputs": []
    },
    {
      "cell_type": "code",
      "source": [
        "text = '''Ashish Gupta is a professor in Artificial intelligence, but He is also teaching power bi on sundays. He is also taking session for mathematics. He is also working full time'''"
      ],
      "metadata": {
        "id": "Ljh3c0YBwk5e"
      },
      "execution_count": null,
      "outputs": []
    },
    {
      "cell_type": "code",
      "source": [
        "#customized function\n",
        "def ngrams(sequence, n, pad_left=False, pad_right=False, pad_symbol=None):\n",
        "\n",
        "    sequence = iter(sequence)\n",
        "    if pad_left:\n",
        "        sequence = chain((pad_symbol,) * (n-1), sequence)\n",
        "    if pad_right:\n",
        "        sequence = chain(sequence, (pad_symbol,) * (n-1))\n",
        "\n",
        "    history = []\n",
        "    while n > 1:\n",
        "        history.append(next(sequence))\n",
        "        n -= 1\n",
        "    for item in sequence:\n",
        "        history.append(item)\n",
        "        yield tuple(history)\n",
        "        del history[0]"
      ],
      "metadata": {
        "id": "2sRKkpknvK85"
      },
      "execution_count": null,
      "outputs": []
    },
    {
      "cell_type": "code",
      "source": [
        "#customized function\n",
        "\n",
        "class BigramCollocationFinder():\n",
        "\n",
        "\n",
        "    def __init__(self, word_fd, bigram_fd, window_size=2):\n",
        "\n",
        "        self.word_fd = word_fd #instead of inheriting this from AbstractCollocationFinder(\n",
        "        self.bigram_fd = bigram_fd\n",
        "        self.window_size = window_size\n",
        "\n",
        "    @classmethod\n",
        "    def from_words(cls, words, window_size=2):\n",
        "\n",
        "        wfd = Counter() # you dont need FreqDist() because you are not using any of its functions\n",
        "        bfd = Counter() # you dont need FreqDist() because you are not using any of its functions\n",
        "\n",
        "        if window_size < 2:\n",
        "            raise ValueError(\"Specify window_size at least 2\")\n",
        "\n",
        "        for window in ngrams(words, window_size, pad_right=True):\n",
        "            w1 = window[0]\n",
        "            wfd[w1] += 1\n",
        "            for w2 in window[1:]:\n",
        "                if w2 is not None:\n",
        "                    bfd[(w1, w2)] += 1\n",
        "        return cls(wfd, bfd, window_size=window_size)"
      ],
      "metadata": {
        "id": "YyvkpMC-tn_g"
      },
      "execution_count": null,
      "outputs": []
    },
    {
      "cell_type": "code",
      "source": [
        "from nltk import word_tokenize\n",
        "#from nltk.collocations import BigramCollocationFinder\n",
        "words = [w.lower() for w in word_tokenize(text)]\n",
        "finder_Bigram = BigramCollocationFinder.from_words(words)\n",
        "print(finder_Bigram)"
      ],
      "metadata": {
        "colab": {
          "base_uri": "https://localhost:8080/"
        },
        "id": "l-OQ2ZKxrKyh",
        "outputId": "40c57534-cfd4-4ffd-d6b4-29565c9866a1"
      },
      "execution_count": null,
      "outputs": [
        {
          "output_type": "stream",
          "name": "stdout",
          "text": [
            "<__main__.BigramCollocationFinder object at 0x7e95ccf2ec50>\n"
          ]
        }
      ]
    },
    {
      "cell_type": "code",
      "source": [
        "finder_Bigram.bigram_fd.items()"
      ],
      "metadata": {
        "colab": {
          "base_uri": "https://localhost:8080/"
        },
        "id": "5QRz7VJ7r6Lh",
        "outputId": "be630952-c24f-415d-dff2-d4fac9387d9a"
      },
      "execution_count": null,
      "outputs": [
        {
          "output_type": "execute_result",
          "data": {
            "text/plain": [
              "dict_items([(('ashish', 'gupta'), 1), (('gupta', 'is'), 1), (('is', 'a'), 1), (('a', 'professor'), 1), (('professor', 'in'), 1), (('in', 'artificial'), 1), (('artificial', 'intelligence'), 1), (('intelligence', ','), 1), ((',', 'but'), 1), (('but', 'he'), 1), (('he', 'is'), 3), (('is', 'also'), 3), (('also', 'teaching'), 1), (('teaching', 'power'), 1), (('power', 'bi'), 1), (('bi', 'on'), 1), (('on', 'sundays'), 1), (('sundays', '.'), 1), (('.', 'he'), 2), (('also', 'taking'), 1), (('taking', 'session'), 1), (('session', 'for'), 1), (('for', 'mathematics'), 1), (('mathematics', '.'), 1), (('also', 'working'), 1), (('working', 'full'), 1), (('full', 'time'), 1)])"
            ]
          },
          "metadata": {},
          "execution_count": 33
        }
      ]
    },
    {
      "cell_type": "code",
      "source": [
        "len(finder_Bigram.bigram_fd.items())"
      ],
      "metadata": {
        "colab": {
          "base_uri": "https://localhost:8080/"
        },
        "id": "KOUp7rFlI6uj",
        "outputId": "7333f3c1-39d1-4904-ccde-6ef6fb9b6f3d"
      },
      "execution_count": null,
      "outputs": [
        {
          "output_type": "execute_result",
          "data": {
            "text/plain": [
              "27"
            ]
          },
          "metadata": {},
          "execution_count": 34
        }
      ]
    },
    {
      "cell_type": "code",
      "source": [
        "#display the frequency of a key\n",
        "\n",
        "key = ('is', 'also')\n",
        "count = finder_Bigram.bigram_fd.get(key, 'Key not found')\n",
        "print(f\"The count for '{key}' is {count}\")"
      ],
      "metadata": {
        "colab": {
          "base_uri": "https://localhost:8080/"
        },
        "id": "vH832RuzHKCU",
        "outputId": "5ca55c83-80b8-41e4-b016-a5b5721f8e28"
      },
      "execution_count": null,
      "outputs": [
        {
          "output_type": "stream",
          "name": "stdout",
          "text": [
            "The count for '('is', 'also')' is 3\n"
          ]
        }
      ]
    },
    {
      "cell_type": "code",
      "source": [
        "#display the frequency of a key\n",
        "\n",
        "key = ('ashish', 'gupta')\n",
        "count = finder_Bigram.bigram_fd.get(key, 'Key not found')\n",
        "print(f\"The count for '{key}' is {count}\")"
      ],
      "metadata": {
        "colab": {
          "base_uri": "https://localhost:8080/"
        },
        "id": "xhVGp33YHsnq",
        "outputId": "059ea161-4a86-4c87-f35a-fa00ce7524d5"
      },
      "execution_count": null,
      "outputs": [
        {
          "output_type": "stream",
          "name": "stdout",
          "text": [
            "The count for '('ashish', 'gupta')' is 1\n"
          ]
        }
      ]
    },
    {
      "cell_type": "markdown",
      "source": [
        "Discovering Trigram Collocation Finder"
      ],
      "metadata": {
        "id": "wfmsD9YW4P0_"
      }
    },
    {
      "cell_type": "code",
      "source": [
        "import itertools as _itertools"
      ],
      "metadata": {
        "id": "d4m2xB8297vr"
      },
      "execution_count": null,
      "outputs": []
    },
    {
      "cell_type": "code",
      "source": [
        "class TrigramCollocationFinder():\n",
        "\n",
        "    def __init__(self, word_fd, trigram_fd):\n",
        "\n",
        "        self.word_fd = word_fd #instead of inheriting this from AbstractCollocationFinder(\n",
        "        self.trigram_fd = trigram_fd\n",
        "\n",
        "    @classmethod\n",
        "    def from_words(cls, words, window_size=3):\n",
        "        \"\"\"Construct a TrigramCollocationFinder for all trigrams in the given\n",
        "        sequence.\n",
        "        \"\"\"\n",
        "        if window_size < 3:\n",
        "            raise ValueError(\"Specify window_size at least 3\")\n",
        "\n",
        "        wfd = Counter() # you dont need FreqDist() because you are not using any of its functions\n",
        "        tfd = Counter() # you dont need FreqDist() because you are not using any of its functions\n",
        "\n",
        "        for window in ngrams(words, window_size, pad_right=True):\n",
        "            w1 = window[0]\n",
        "            for w2, w3 in _itertools.combinations(window[1:], 2):\n",
        "                wfd[w1] += 1\n",
        "                if w2 is None:\n",
        "                    continue\n",
        "                if w3 is None:\n",
        "                    continue\n",
        "                tfd[(w1, w2, w3)] += 1\n",
        "        return cls(wfd, tfd)"
      ],
      "metadata": {
        "id": "7z5h_7yH4OD3"
      },
      "execution_count": null,
      "outputs": []
    },
    {
      "cell_type": "code",
      "source": [
        "from nltk import word_tokenize\n",
        "#from nltk.collocations import BigramCollocationFinder\n",
        "words = [w.lower() for w in word_tokenize(text)]\n",
        "finder_trigram = TrigramCollocationFinder.from_words(words)\n",
        "print(finder_trigram)"
      ],
      "metadata": {
        "colab": {
          "base_uri": "https://localhost:8080/"
        },
        "id": "tDWVWiWw2Gh4",
        "outputId": "54867698-5fbb-48c4-f318-1d614652abe1"
      },
      "execution_count": null,
      "outputs": [
        {
          "output_type": "stream",
          "name": "stdout",
          "text": [
            "<__main__.TrigramCollocationFinder object at 0x7e95ccf2f8e0>\n"
          ]
        }
      ]
    },
    {
      "cell_type": "code",
      "source": [
        "finder_trigram.trigram_fd.items()"
      ],
      "metadata": {
        "colab": {
          "base_uri": "https://localhost:8080/"
        },
        "id": "SYhjMosU_hZa",
        "outputId": "de6d0030-9513-477f-cf86-0011d9006d50"
      },
      "execution_count": null,
      "outputs": [
        {
          "output_type": "execute_result",
          "data": {
            "text/plain": [
              "dict_items([(('ashish', 'gupta', 'is'), 1), (('gupta', 'is', 'a'), 1), (('is', 'a', 'professor'), 1), (('a', 'professor', 'in'), 1), (('professor', 'in', 'artificial'), 1), (('in', 'artificial', 'intelligence'), 1), (('artificial', 'intelligence', ','), 1), (('intelligence', ',', 'but'), 1), ((',', 'but', 'he'), 1), (('but', 'he', 'is'), 1), (('he', 'is', 'also'), 3), (('is', 'also', 'teaching'), 1), (('also', 'teaching', 'power'), 1), (('teaching', 'power', 'bi'), 1), (('power', 'bi', 'on'), 1), (('bi', 'on', 'sundays'), 1), (('on', 'sundays', '.'), 1), (('sundays', '.', 'he'), 1), (('.', 'he', 'is'), 2), (('is', 'also', 'taking'), 1), (('also', 'taking', 'session'), 1), (('taking', 'session', 'for'), 1), (('session', 'for', 'mathematics'), 1), (('for', 'mathematics', '.'), 1), (('mathematics', '.', 'he'), 1), (('is', 'also', 'working'), 1), (('also', 'working', 'full'), 1), (('working', 'full', 'time'), 1)])"
            ]
          },
          "metadata": {},
          "execution_count": 40
        }
      ]
    },
    {
      "cell_type": "code",
      "source": [
        "len(finder_trigram.trigram_fd.items())"
      ],
      "metadata": {
        "colab": {
          "base_uri": "https://localhost:8080/"
        },
        "id": "XCyycIb7HCGd",
        "outputId": "edeaa0fb-4cbd-4980-ccc5-abe2e77cdb9f"
      },
      "execution_count": null,
      "outputs": [
        {
          "output_type": "execute_result",
          "data": {
            "text/plain": [
              "28"
            ]
          },
          "metadata": {},
          "execution_count": 41
        }
      ]
    },
    {
      "cell_type": "markdown",
      "source": [
        "**Discovering Bigram Assoc Measures**"
      ],
      "metadata": {
        "id": "F3CXmjy7BKgI"
      }
    },
    {
      "cell_type": "code",
      "source": [
        "import nltk\n",
        "from nltk.collocations import BigramCollocationFinder\n",
        "from nltk.metrics import BigramAssocMeasures\n",
        "from nltk.tokenize import word_tokenize\n",
        "\n",
        "words = word_tokenize(text)\n",
        "bigram_finder = BigramCollocationFinder.from_words(words)\n",
        "\n",
        "bigram_likelihood_ratios = bigram_finder.score_ngrams(BigramAssocMeasures.likelihood_ratio)\n",
        "\n",
        "# Print the bigrams with their likelihood ratios\n",
        "for bigram, score in bigram_likelihood_ratios:\n",
        "    print(f\"Bigram: {bigram}, Likelihood Ratio: {score:.4f}\")"
      ],
      "metadata": {
        "colab": {
          "base_uri": "https://localhost:8080/"
        },
        "id": "L0VK4wPeS3_7",
        "outputId": "387d5817-babf-498c-ef61-b0c148cc390c"
      },
      "execution_count": null,
      "outputs": [
        {
          "output_type": "stream",
          "name": "stdout",
          "text": [
            "Bigram: ('He', 'is'), Likelihood Ratio: 15.6073\n",
            "Bigram: ('is', 'also'), Likelihood Ratio: 15.6073\n",
            "Bigram: ('.', 'He'), Likelihood Ratio: 11.2706\n",
            "Bigram: (',', 'but'), Likelihood Ratio: 8.9624\n",
            "Bigram: ('Artificial', 'intelligence'), Likelihood Ratio: 8.9624\n",
            "Bigram: ('Ashish', 'Gupta'), Likelihood Ratio: 8.9624\n",
            "Bigram: ('a', 'professor'), Likelihood Ratio: 8.9624\n",
            "Bigram: ('bi', 'on'), Likelihood Ratio: 8.9624\n",
            "Bigram: ('for', 'mathematics'), Likelihood Ratio: 8.9624\n",
            "Bigram: ('full', 'time'), Likelihood Ratio: 8.9624\n",
            "Bigram: ('in', 'Artificial'), Likelihood Ratio: 8.9624\n",
            "Bigram: ('intelligence', ','), Likelihood Ratio: 8.9624\n",
            "Bigram: ('on', 'sundays'), Likelihood Ratio: 8.9624\n",
            "Bigram: ('power', 'bi'), Likelihood Ratio: 8.9624\n",
            "Bigram: ('professor', 'in'), Likelihood Ratio: 8.9624\n",
            "Bigram: ('session', 'for'), Likelihood Ratio: 8.9624\n",
            "Bigram: ('taking', 'session'), Likelihood Ratio: 8.9624\n",
            "Bigram: ('teaching', 'power'), Likelihood Ratio: 8.9624\n",
            "Bigram: ('working', 'full'), Likelihood Ratio: 8.9624\n",
            "Bigram: ('mathematics', '.'), Likelihood Ratio: 6.1898\n",
            "Bigram: ('sundays', '.'), Likelihood Ratio: 6.1898\n",
            "Bigram: ('also', 'taking'), Likelihood Ratio: 5.1433\n",
            "Bigram: ('also', 'teaching'), Likelihood Ratio: 5.1433\n",
            "Bigram: ('also', 'working'), Likelihood Ratio: 5.1433\n",
            "Bigram: ('but', 'He'), Likelihood Ratio: 5.1433\n",
            "Bigram: ('Gupta', 'is'), Likelihood Ratio: 4.4637\n",
            "Bigram: ('is', 'a'), Likelihood Ratio: 4.4637\n"
          ]
        }
      ]
    },
    {
      "cell_type": "markdown",
      "source": [
        "<h1>Likelihood Ratios in NLP</h1>\n",
        "<p>In Manning and Schütze's \"Foundations of Statistical Natural Language Processing,\" likelihood ratios are a statistical measure used to evaluate the strength of evidence for or against a particular hypothesis. Specifically, in Section 5.3.4, they discuss likelihood ratios in the context of collocations and how to determine if a pair of words co-occur more often than would be expected by chance.</p>\n",
        "\n",
        "<h2>Definition of Likelihood Ratios</h2>\n",
        "<p>The likelihood ratio (LR) is a measure that compares the likelihood of observing the data under two different hypotheses:</p>\n",
        "<ul>\n",
        "<li><strong>H<sub>1</sub></strong>: The hypothesis that the two words are collocates (i.e., they occur together more frequently than by chance).</li>\n",
        "<li><strong>H<sub>0</sub></strong>: The null hypothesis that the two words occur independently (i.e., any co-occurrence is purely by chance).</li>\n",
        "</ul>\n",
        "<p>The likelihood ratio is calculated as:</p>\n",
        "<p>\n",
        "\n",
        "<strong>LR = </strong><sup>P(data ∣ H<sub>1</sub>)</sup> / <sub>P(data ∣ H<sub>0</sub>)</sub></p>\n",
        "\n",
        "<p>Where:</p>\n",
        "<ul>\n",
        "<li><strong>P(data ∣ H<sub>1</sub>)</strong> is the probability of the observed data given that H<sub>1</sub> is true.</li>\n",
        "<li><strong>P(data ∣ H<sub>0</sub>)</strong> is the probability of the observed data given that H<sub>0</sub> is true.</li>\n",
        "</ul>"
      ],
      "metadata": {
        "id": "6Mwqx8OPDfoF"
      }
    },
    {
      "cell_type": "markdown",
      "source": [
        "<h2>Application to Word Pairs</h2>\n",
        "<p>To apply this to word pairs, consider the following:</p>\n",
        "<ul>\n",
        "<li>Let <em>k</em> be the number of times the word pair <em>(w<sub>1</sub>, w<sub>2</sub>)</em> occurs together in the corpus.</li>\n",
        "<li>Let <em>N</em> be the total number of word pairs in the corpus.</li>\n",
        "<li>Let <em>n<sub>1</sub></em> be the number of occurrences of <em>w<sub>1</sub></em> in the corpus.</li>\n",
        "<li>Let <em>n<sub>2</sub></em> be the number of occurrences of <em>w<sub>2</sub></em> in the corpus.</li>\n",
        "</ul>"
      ],
      "metadata": {
        "id": "IQdyQrRUEham"
      }
    },
    {
      "cell_type": "code",
      "source": [
        "text = '''Ashish Gupta is a professor in Artificial intelligence, but He is also teaching power bi on sundays. He is also taking session for mathematics. He is also working full time'''"
      ],
      "metadata": {
        "id": "an8T90dsPojt"
      },
      "execution_count": null,
      "outputs": []
    },
    {
      "cell_type": "markdown",
      "source": [
        "Lets verify this result"
      ],
      "metadata": {
        "id": "wldVvCWpLaCZ"
      }
    },
    {
      "cell_type": "code",
      "source": [
        "import nltk\n",
        "from nltk.collocations import BigramCollocationFinder\n",
        "from nltk.metrics import BigramAssocMeasures\n",
        "from nltk.tokenize import word_tokenize\n",
        "\n",
        "words = word_tokenize(text)\n",
        "bigram_finder = BigramCollocationFinder.from_words(words)\n",
        "\n",
        "bigram_likelihood_ratios = bigram_finder.score_ngrams(BigramAssocMeasures.likelihood_ratio)"
      ],
      "metadata": {
        "id": "jxfZMWvHLVtn"
      },
      "execution_count": null,
      "outputs": []
    },
    {
      "cell_type": "code",
      "source": [
        "import nltk\n",
        "from collections import Counter\n",
        "from nltk.tokenize import word_tokenize\n",
        "\n",
        "# Tokenize text into words\n",
        "words = [w.lower() for w in word_tokenize(text)]\n",
        "\n",
        "# Extract bigrams\n",
        "bigrams = list(nltk.bigrams(words))\n",
        "\n",
        "# Calculate frequencies\n",
        "word_counts = Counter(words)\n",
        "bigram_counts = Counter(bigrams)\n",
        "total_word_pairs = len(bigrams)\n",
        "\n",
        "def expected_frequency(n1, n2, N):\n",
        "    return (n1 * n2) / N\n",
        "\n",
        "import math\n",
        "\n",
        "def log_likelihood_ratio(k, N, n1, n2):\n",
        "    # Observed frequencies\n",
        "    o11 = k\n",
        "    o12 = n1 - k\n",
        "    o21 = n2 - k\n",
        "    o22 = N - (n1 + n2 - k)\n",
        "\n",
        "    # Expected frequencies under independence\n",
        "    e11 = (n1 * n2) / N\n",
        "    e12 = n1 - e11\n",
        "    e21 = n2 - e11\n",
        "    e22 = N - (n1 + n2) + e11\n",
        "\n",
        "    # Avoid log(0) by using a small value\n",
        "    small_value = 1e-15\n",
        "\n",
        "    def safe_log(x):\n",
        "        return math.log(max(x, small_value))\n",
        "\n",
        "    # Calculate log-likelihood ratio\n",
        "    llr = 2 * (\n",
        "        o11 * safe_log(o11 / e11) +\n",
        "        o12 * safe_log(o12 / e12) +\n",
        "        o21 * safe_log(o21 / e21) +\n",
        "        o22 * safe_log(o22 / e22)\n",
        "    )\n",
        "\n",
        "    return llr"
      ],
      "metadata": {
        "id": "530gpUDcUcPg"
      },
      "execution_count": null,
      "outputs": []
    },
    {
      "cell_type": "code",
      "source": [
        "print(bigrams)\n",
        "print(word_counts)\n",
        "print(bigram_counts)\n",
        "print(total_word_pairs)"
      ],
      "metadata": {
        "colab": {
          "base_uri": "https://localhost:8080/"
        },
        "id": "2Yo78fGKYFN-",
        "outputId": "dff3f60f-ad79-4c9f-93d5-3ea5a6b02a69"
      },
      "execution_count": null,
      "outputs": [
        {
          "output_type": "stream",
          "name": "stdout",
          "text": [
            "[('ashish', 'gupta'), ('gupta', 'is'), ('is', 'a'), ('a', 'professor'), ('professor', 'in'), ('in', 'artificial'), ('artificial', 'intelligence'), ('intelligence', ','), (',', 'but'), ('but', 'he'), ('he', 'is'), ('is', 'also'), ('also', 'teaching'), ('teaching', 'power'), ('power', 'bi'), ('bi', 'on'), ('on', 'sundays'), ('sundays', '.'), ('.', 'he'), ('he', 'is'), ('is', 'also'), ('also', 'taking'), ('taking', 'session'), ('session', 'for'), ('for', 'mathematics'), ('mathematics', '.'), ('.', 'he'), ('he', 'is'), ('is', 'also'), ('also', 'working'), ('working', 'full'), ('full', 'time')]\n",
            "Counter({'is': 4, 'he': 3, 'also': 3, '.': 2, 'ashish': 1, 'gupta': 1, 'a': 1, 'professor': 1, 'in': 1, 'artificial': 1, 'intelligence': 1, ',': 1, 'but': 1, 'teaching': 1, 'power': 1, 'bi': 1, 'on': 1, 'sundays': 1, 'taking': 1, 'session': 1, 'for': 1, 'mathematics': 1, 'working': 1, 'full': 1, 'time': 1})\n",
            "Counter({('he', 'is'): 3, ('is', 'also'): 3, ('.', 'he'): 2, ('ashish', 'gupta'): 1, ('gupta', 'is'): 1, ('is', 'a'): 1, ('a', 'professor'): 1, ('professor', 'in'): 1, ('in', 'artificial'): 1, ('artificial', 'intelligence'): 1, ('intelligence', ','): 1, (',', 'but'): 1, ('but', 'he'): 1, ('also', 'teaching'): 1, ('teaching', 'power'): 1, ('power', 'bi'): 1, ('bi', 'on'): 1, ('on', 'sundays'): 1, ('sundays', '.'): 1, ('also', 'taking'): 1, ('taking', 'session'): 1, ('session', 'for'): 1, ('for', 'mathematics'): 1, ('mathematics', '.'): 1, ('also', 'working'): 1, ('working', 'full'): 1, ('full', 'time'): 1})\n",
            "32\n"
          ]
        }
      ]
    },
    {
      "cell_type": "code",
      "source": [
        "# Calculate log-likelihood ratios for each bigram using custom implementation\n",
        "bigram_log_likelihood_ratios = {}\n",
        "for bigram, count in bigram_counts.items():\n",
        "    w1, w2 = bigram\n",
        "    n1 = word_counts[w1]\n",
        "    n2 = word_counts[w2]\n",
        "    llr = log_likelihood_ratio(count, total_word_pairs, n1, n2)\n",
        "    bigram_log_likelihood_ratios[bigram] = llr\n",
        "\n",
        "# Sort bigrams by their log-likelihood ratio in descending order\n",
        "sorted_bigrams = sorted(bigram_log_likelihood_ratios.items(), key=lambda item: item[1], reverse=True)\n",
        "\n",
        "# Print the bigrams with their log-likelihood ratios\n",
        "print(\"Custom Bigram Log-Likelihood Ratios:\")\n",
        "for bigram, llr in sorted_bigrams:\n",
        "    print(f\"Bigram: {bigram}, Log-Likelihood Ratio: {llr:.4f}\")\n",
        "\n",
        "print(\"\\nNLTK Bigram Log-Likelihood Ratios:\")\n",
        "# Print the bigrams with their likelihood ratios\n",
        "for bigram, score in bigram_likelihood_ratios:\n",
        "    print(f\"Bigram: {bigram}, Likelihood Ratio: {score:.4f}\")"
      ],
      "metadata": {
        "colab": {
          "base_uri": "https://localhost:8080/"
        },
        "id": "UoMrtBD2VLQf",
        "outputId": "eee69e0b-8c9e-4fd0-80f3-f44264c79672"
      },
      "execution_count": null,
      "outputs": [
        {
          "output_type": "stream",
          "name": "stdout",
          "text": [
            "Custom Bigram Log-Likelihood Ratios:\n",
            "Bigram: ('he', 'is'), Log-Likelihood Ratio: 15.4136\n",
            "Bigram: ('is', 'also'), Log-Likelihood Ratio: 15.4136\n",
            "Bigram: ('.', 'he'), Log-Likelihood Ratio: 11.1436\n",
            "Bigram: ('ashish', 'gupta'), Log-Likelihood Ratio: 8.8999\n",
            "Bigram: ('a', 'professor'), Log-Likelihood Ratio: 8.8999\n",
            "Bigram: ('professor', 'in'), Log-Likelihood Ratio: 8.8999\n",
            "Bigram: ('in', 'artificial'), Log-Likelihood Ratio: 8.8999\n",
            "Bigram: ('artificial', 'intelligence'), Log-Likelihood Ratio: 8.8999\n",
            "Bigram: ('intelligence', ','), Log-Likelihood Ratio: 8.8999\n",
            "Bigram: (',', 'but'), Log-Likelihood Ratio: 8.8999\n",
            "Bigram: ('teaching', 'power'), Log-Likelihood Ratio: 8.8999\n",
            "Bigram: ('power', 'bi'), Log-Likelihood Ratio: 8.8999\n",
            "Bigram: ('bi', 'on'), Log-Likelihood Ratio: 8.8999\n",
            "Bigram: ('on', 'sundays'), Log-Likelihood Ratio: 8.8999\n",
            "Bigram: ('taking', 'session'), Log-Likelihood Ratio: 8.8999\n",
            "Bigram: ('session', 'for'), Log-Likelihood Ratio: 8.8999\n",
            "Bigram: ('for', 'mathematics'), Log-Likelihood Ratio: 8.8999\n",
            "Bigram: ('working', 'full'), Log-Likelihood Ratio: 8.8999\n",
            "Bigram: ('full', 'time'), Log-Likelihood Ratio: 8.8999\n",
            "Bigram: ('sundays', '.'), Log-Likelihood Ratio: 6.1273\n",
            "Bigram: ('mathematics', '.'), Log-Likelihood Ratio: 6.1273\n",
            "Bigram: ('but', 'he'), Log-Likelihood Ratio: 5.0808\n",
            "Bigram: ('also', 'teaching'), Log-Likelihood Ratio: 5.0808\n",
            "Bigram: ('also', 'taking'), Log-Likelihood Ratio: 5.0808\n",
            "Bigram: ('also', 'working'), Log-Likelihood Ratio: 5.0808\n",
            "Bigram: ('gupta', 'is'), Log-Likelihood Ratio: 4.4012\n",
            "Bigram: ('is', 'a'), Log-Likelihood Ratio: 4.4012\n",
            "\n",
            "NLTK Bigram Log-Likelihood Ratios:\n",
            "Bigram: ('He', 'is'), Likelihood Ratio: 15.6073\n",
            "Bigram: ('is', 'also'), Likelihood Ratio: 15.6073\n",
            "Bigram: ('.', 'He'), Likelihood Ratio: 11.2706\n",
            "Bigram: (',', 'but'), Likelihood Ratio: 8.9624\n",
            "Bigram: ('Artificial', 'intelligence'), Likelihood Ratio: 8.9624\n",
            "Bigram: ('Ashish', 'Gupta'), Likelihood Ratio: 8.9624\n",
            "Bigram: ('a', 'professor'), Likelihood Ratio: 8.9624\n",
            "Bigram: ('bi', 'on'), Likelihood Ratio: 8.9624\n",
            "Bigram: ('for', 'mathematics'), Likelihood Ratio: 8.9624\n",
            "Bigram: ('full', 'time'), Likelihood Ratio: 8.9624\n",
            "Bigram: ('in', 'Artificial'), Likelihood Ratio: 8.9624\n",
            "Bigram: ('intelligence', ','), Likelihood Ratio: 8.9624\n",
            "Bigram: ('on', 'sundays'), Likelihood Ratio: 8.9624\n",
            "Bigram: ('power', 'bi'), Likelihood Ratio: 8.9624\n",
            "Bigram: ('professor', 'in'), Likelihood Ratio: 8.9624\n",
            "Bigram: ('session', 'for'), Likelihood Ratio: 8.9624\n",
            "Bigram: ('taking', 'session'), Likelihood Ratio: 8.9624\n",
            "Bigram: ('teaching', 'power'), Likelihood Ratio: 8.9624\n",
            "Bigram: ('working', 'full'), Likelihood Ratio: 8.9624\n",
            "Bigram: ('mathematics', '.'), Likelihood Ratio: 6.1898\n",
            "Bigram: ('sundays', '.'), Likelihood Ratio: 6.1898\n",
            "Bigram: ('also', 'taking'), Likelihood Ratio: 5.1433\n",
            "Bigram: ('also', 'teaching'), Likelihood Ratio: 5.1433\n",
            "Bigram: ('also', 'working'), Likelihood Ratio: 5.1433\n",
            "Bigram: ('but', 'He'), Likelihood Ratio: 5.1433\n",
            "Bigram: ('Gupta', 'is'), Likelihood Ratio: 4.4637\n",
            "Bigram: ('is', 'a'), Likelihood Ratio: 4.4637\n"
          ]
        }
      ]
    },
    {
      "cell_type": "markdown",
      "source": [
        "**Decoding Pointwise mutual information**"
      ],
      "metadata": {
        "id": "EfLeLjD_o0Np"
      }
    },
    {
      "cell_type": "code",
      "source": [
        "text = '''Ashish Gupta is a professor in Artificial intelligence, but He is also teaching power bi on sundays. He is also taking session for mathematics. He is also working full time'''"
      ],
      "metadata": {
        "id": "QCcOFOogpJG4"
      },
      "execution_count": null,
      "outputs": []
    },
    {
      "cell_type": "code",
      "source": [
        "from nltk.collocations import BigramCollocationFinder, BigramAssocMeasures\n",
        "from nltk.tokenize import word_tokenize\n",
        "import nltk\n",
        "\n",
        "bigram_measures = BigramAssocMeasures()\n",
        "bigram_finder = BigramCollocationFinder.from_words(word_tokenize(text))\n",
        "for i in bigram_finder.score_ngrams(bigram_measures.pmi):\n",
        "    print(i)"
      ],
      "metadata": {
        "colab": {
          "base_uri": "https://localhost:8080/"
        },
        "id": "MKFWckg9o5mr",
        "outputId": "1bf2bf09-7476-4b5b-cd56-e860826d686a"
      },
      "execution_count": null,
      "outputs": [
        {
          "output_type": "stream",
          "name": "stdout",
          "text": [
            "((',', 'but'), 5.044394119358453)\n",
            "(('Artificial', 'intelligence'), 5.044394119358453)\n",
            "(('Ashish', 'Gupta'), 5.044394119358453)\n",
            "(('a', 'professor'), 5.044394119358453)\n",
            "(('bi', 'on'), 5.044394119358453)\n",
            "(('for', 'mathematics'), 5.044394119358453)\n",
            "(('full', 'time'), 5.044394119358453)\n",
            "(('in', 'Artificial'), 5.044394119358453)\n",
            "(('intelligence', ','), 5.044394119358453)\n",
            "(('on', 'sundays'), 5.044394119358453)\n",
            "(('power', 'bi'), 5.044394119358453)\n",
            "(('professor', 'in'), 5.044394119358453)\n",
            "(('session', 'for'), 5.044394119358453)\n",
            "(('taking', 'session'), 5.044394119358453)\n",
            "(('teaching', 'power'), 5.044394119358453)\n",
            "(('working', 'full'), 5.044394119358453)\n",
            "(('mathematics', '.'), 4.044394119358453)\n",
            "(('sundays', '.'), 4.044394119358453)\n",
            "(('.', 'He'), 3.4594316186372973)\n",
            "(('also', 'taking'), 3.4594316186372973)\n",
            "(('also', 'teaching'), 3.4594316186372973)\n",
            "(('also', 'working'), 3.4594316186372973)\n",
            "(('but', 'He'), 3.4594316186372973)\n",
            "(('Gupta', 'is'), 3.0443941193584534)\n",
            "(('He', 'is'), 3.0443941193584534)\n",
            "(('is', 'a'), 3.0443941193584534)\n",
            "(('is', 'also'), 3.0443941193584534)\n"
          ]
        }
      ]
    },
    {
      "cell_type": "markdown",
      "source": [
        "PMI helps us to find related words. In other words, it explains how likely the co-occurrence of two words than we would expect by chance.\n",
        "\n",
        "For example the word \"Data Science\" has a specific meaning when these two words \"Data\" and \"Science\" go together. Otherwise meaning of these two words are independent. Similarly \"Great Britain\" is meaningful since we know the word \"Great\" can be used with several other words but not so relevant in meaning like \"Great UK, Great London, Great Dubai etc.\"\n",
        "\n",
        "https://www.listendata.com/2022/06/pointwise-mutual-information-pmi.html#can_pmi_be_negative"
      ],
      "metadata": {
        "id": "dgRkdK2_rid2"
      }
    },
    {
      "cell_type": "code",
      "source": [
        "import re\n",
        "import math\n",
        "from collections import Counter\n",
        "\n",
        "def calculate_bigram_counts(words):\n",
        "    # Generate bigrams from the list of words\n",
        "    bigrams = [(words[i], words[i + 1]) for i in range(len(words) - 1)]\n",
        "    # Count the frequency of each bigram\n",
        "    bigram_counts = Counter(bigrams)\n",
        "    return bigram_counts\n",
        "\n",
        "def calculate_pmi(bigram_count, word1_count, word2_count, total_count):\n",
        "\n",
        "    p_bigram = bigram_count / total_count\n",
        "    p_word1 = word1_count / total_count\n",
        "    p_word2 = word2_count / total_count\n",
        "\n",
        "    # PMI calculation\n",
        "    pmi = math.log2(p_bigram / (p_word1 * p_word2))\n",
        "\n",
        "    return pmi\n",
        "\n",
        "# Given text\n",
        "text = '''Ashish Gupta is a professor in Artificial intelligence, but He is also teaching power bi on sundays. He is also taking session for mathematics. He is also working full time'''\n",
        "\n",
        "# Preprocess the text\n",
        "words = [w.lower() for w in word_tokenize(text)]\n",
        "\n",
        "# Calculate bigram counts\n",
        "bigram_counts = calculate_bigram_counts(words)\n",
        "\n",
        "# Calculate the total count of bigrams\n",
        "total_count = sum(bigram_counts.values())\n",
        "\n",
        "# Example bigram\n",
        "word1 = \"artificial\"\n",
        "word2 = \"intelligence\"\n",
        "bigram = (word1, word2)\n",
        "\n",
        "# Calculate PMI for the example bigram\n",
        "bigram_count = bigram_counts.get(bigram, 0)\n",
        "word1_count = words.count(word1)\n",
        "word2_count = words.count(word2)\n",
        "pmi = calculate_pmi(bigram_count, word1_count, word2_count, total_count)\n",
        "\n",
        "print(f\"PMI for bigram '{word1} {word2}': {pmi}\")\n",
        "\n",
        "word1 = \"gupta\"\n",
        "word2 = \"is\"\n",
        "bigram = (word1, word2)\n",
        "# Calculate PMI for the example bigram\n",
        "bigram_count = bigram_counts.get(bigram, 0)\n",
        "word1_count = words.count(word1)\n",
        "word2_count = words.count(word2)\n",
        "pmi = calculate_pmi(bigram_count, word1_count, word2_count, total_count)\n",
        "\n",
        "print(f\"\\nPMI for bigram '{word1} {word2}': {pmi}\")\n",
        "\n",
        "word1 = \"also\"\n",
        "word2 = \"taking\"\n",
        "bigram = (word1, word2)\n",
        "# Calculate PMI for the example bigram\n",
        "bigram_count = bigram_counts.get(bigram, 0)\n",
        "word1_count = words.count(word1)\n",
        "word2_count = words.count(word2)\n",
        "pmi = calculate_pmi(bigram_count, word1_count, word2_count, total_count)\n",
        "\n",
        "print(f\"\\nPMI for bigram '{word1} {word2}': {pmi}\")"
      ],
      "metadata": {
        "colab": {
          "base_uri": "https://localhost:8080/"
        },
        "id": "6h7Qig5QpJ1t",
        "outputId": "5b222773-cce8-4d05-c961-49d3fd45c1ac"
      },
      "execution_count": null,
      "outputs": [
        {
          "output_type": "stream",
          "name": "stdout",
          "text": [
            "PMI for bigram 'artificial intelligence': 5.0\n",
            "\n",
            "PMI for bigram 'gupta is': 3.0\n",
            "\n",
            "PMI for bigram 'also taking': 3.415037499278844\n"
          ]
        }
      ]
    },
    {
      "cell_type": "code",
      "source": [],
      "metadata": {
        "id": "FGgWgtejaKoT"
      },
      "execution_count": null,
      "outputs": []
    }
  ]
}